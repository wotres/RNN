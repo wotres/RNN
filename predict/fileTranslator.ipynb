{
 "cells": [
  {
   "cell_type": "code",
   "execution_count": 35,
   "metadata": {},
   "outputs": [],
   "source": [
    "def fileTranslator():\n",
    "    rawData = open(\"raw_data.txt\")\n",
    "    trainData = open(\"train_data.txt\", \"w\")\n",
    "    lines = rawData.readlines()\n",
    "    first = True\n",
    "    nextNum = []\n",
    "    data = []\n",
    "    for line in lines:\n",
    "        line = line.split()\n",
    "        if first:\n",
    "            nextNum = line\n",
    "            first = False\n",
    "            continue\n",
    "        data.append(line + nextNum)\n",
    "        nextNum = line\n",
    "    data = reversed(data)\n",
    "    for i in data:\n",
    "        temp = ''\n",
    "        for j in range(len(i)):\n",
    "            if j == len(i)-1 :\n",
    "                temp += str(i[j])\n",
    "                break;\n",
    "            temp += str(i[j]) +','\n",
    "#         print(temp)\n",
    "        trainData.write(temp + '\\n')\n",
    "#     print(data)\n",
    "#     trainData.write()\n",
    "if __name__ == \"__main__\":\n",
    "    fileTranslator()\n",
    "\n",
    "    "
   ]
  },
  {
   "cell_type": "code",
   "execution_count": null,
   "metadata": {
    "collapsed": true
   },
   "outputs": [],
   "source": []
  }
 ],
 "metadata": {
  "kernelspec": {
   "display_name": "Python 3",
   "language": "python",
   "name": "python3"
  },
  "language_info": {
   "codemirror_mode": {
    "name": "ipython",
    "version": 3
   },
   "file_extension": ".py",
   "mimetype": "text/x-python",
   "name": "python",
   "nbconvert_exporter": "python",
   "pygments_lexer": "ipython3",
   "version": "3.6.3"
  }
 },
 "nbformat": 4,
 "nbformat_minor": 2
}
