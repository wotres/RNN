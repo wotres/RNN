{
 "cells": [
  {
   "cell_type": "code",
   "execution_count": 109,
   "metadata": {},
   "outputs": [
    {
     "name": "stdout",
     "output_type": "stream",
     "text": [
      "[44 19 15 28  7 11]\n"
     ]
    }
   ],
   "source": [
    "import re\n",
    "import numpy\n",
    "import scipy.special\n",
    "class predict:\n",
    "            \n",
    "    input_nodes = 46\n",
    "    hidden_nodes = 64\n",
    "    output_nodes = 46    \n",
    "    learning_rate = 0.3\n",
    "    # 활성화 함수: 시그모이드 함수\n",
    "    activation_function = lambda x: scipy.special.expit(x)\n",
    "    # 가중치: 1/루트(들어오는 연결 노드 개수) 의 표준편차를 가지는 정규분포\n",
    "    wih = numpy.random.normal(0.0, pow(hidden_nodes, -0.5), (hidden_nodes, input_nodes))\n",
    "    who = numpy.random.normal(0.0, pow(output_nodes, -0.5), (output_nodes, hidden_nodes))\n",
    "    \n",
    "    ## 트레이닝\n",
    "    f = open('train_data.txt','r')\n",
    "    lines = f.readlines()\n",
    "    \n",
    "    epochs = 6\n",
    "    for e in range(epochs):\n",
    "        for line in lines:\n",
    "            line = re.sub('\\n', '', line)            \n",
    "            line = re.sub('-', ',', line)                       \n",
    "            line = line.split(',')\n",
    "            inputs = numpy.zeros(input_nodes) + 0.01\n",
    "            targets = numpy.zeros(output_nodes) +0.01\n",
    "            for i in range(0,6):\n",
    "                inputs[int(line[i])]=0.99\n",
    "                i += 6\n",
    "                targets[int(line[i])] = 0.99\n",
    "            inputs = numpy.array(inputs, ndmin=2).T\n",
    "            targets = numpy.array(targets, ndmin=2).T\n",
    "            # hidden_layer에서 학습\n",
    "            hidden_inputs = numpy.dot(wih, inputs)\n",
    "            hidden_outputs = activation_function(hidden_inputs)\n",
    "            # final result\n",
    "            final_inputs = numpy.dot(who, hidden_outputs)\n",
    "            final_outputs = activation_function(final_inputs)\n",
    "            # err(실제값 - 계산 값)\n",
    "            output_errors = targets - final_outputs\n",
    "            hidden_errors = numpy.dot(who.T, output_errors)\n",
    "            \n",
    "            # 가중치 갱신\n",
    "            who += learning_rate * numpy.dot((output_errors * final_outputs * (1.0 - final_outputs)), numpy.transpose(hidden_outputs))\n",
    "            wih += learning_rate * numpy.dot((hidden_errors * hidden_outputs * (1.0 - hidden_outputs)), numpy.transpose(inputs))\n",
    "    print(final_outputs)        \n",
    "    # 예측\n",
    "    value = [1,2,3,4,5,6]\n",
    "    inputs = numpy.zeros(input_nodes) + 0.01\n",
    "    for i in range(0,6):\n",
    "        inputs[int(value[i])] = 0.99\n",
    "            \n",
    "    inputs = numpy.array(inputs, ndmin=2).T\n",
    "    \n",
    "    hidden_inputs = numpy.dot(wih, inputs)\n",
    "    hidden_outputs = activation_function(hidden_inputs)\n",
    "    \n",
    "    final_inputs = numpy.dot(who, hidden_outputs)\n",
    "    final_outputs = activation_function(final_inputs)\n",
    "    final_outputs = final_outputs.flatten().argsort()\n",
    "    \n",
    "    print(final_outputs[-6:])"
   ]
  },
  {
   "cell_type": "code",
   "execution_count": null,
   "metadata": {
    "collapsed": true
   },
   "outputs": [],
   "source": []
  },
  {
   "cell_type": "code",
   "execution_count": null,
   "metadata": {
    "collapsed": true
   },
   "outputs": [],
   "source": []
  }
 ],
 "metadata": {
  "kernelspec": {
   "display_name": "Python 3",
   "language": "python",
   "name": "python3"
  },
  "language_info": {
   "codemirror_mode": {
    "name": "ipython",
    "version": 3
   },
   "file_extension": ".py",
   "mimetype": "text/x-python",
   "name": "python",
   "nbconvert_exporter": "python",
   "pygments_lexer": "ipython3",
   "version": "3.6.3"
  }
 },
 "nbformat": 4,
 "nbformat_minor": 2
}
