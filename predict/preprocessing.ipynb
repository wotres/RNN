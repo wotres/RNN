{
 "cells": [
  {
   "cell_type": "code",
   "execution_count": 48,
   "metadata": {},
   "outputs": [
    {
     "name": "stdout",
     "output_type": "stream",
     "text": [
      "21\n",
      "예측 확률 : {2: 0.23809523809523808, 1: 0.47619047619047616, 0: 0.2857142857142857}\n",
      "[ 2 31 42 10 45 15]\n"
     ]
    },
    {
     "ename": "NameError",
     "evalue": "name 'temp' is not defined",
     "output_type": "error",
     "traceback": [
      "\u001b[0;31m---------------------------------------------------------------------------\u001b[0m",
      "\u001b[0;31mNameError\u001b[0m                                 Traceback (most recent call last)",
      "\u001b[0;32m<ipython-input-48-5107f426a36f>\u001b[0m in \u001b[0;36m<module>\u001b[0;34m()\u001b[0m\n\u001b[1;32m      6\u001b[0m \u001b[0;31m# 에포크 적정 찾기\u001b[0m\u001b[0;34m\u001b[0m\u001b[0;34m\u001b[0m\u001b[0m\n\u001b[1;32m      7\u001b[0m \u001b[0;31m# 신경망 추가\u001b[0m\u001b[0;34m\u001b[0m\u001b[0;34m\u001b[0m\u001b[0m\n\u001b[0;32m----> 8\u001b[0;31m \u001b[0;32mclass\u001b[0m \u001b[0mpredict\u001b[0m\u001b[0;34m:\u001b[0m\u001b[0;34m\u001b[0m\u001b[0m\n\u001b[0m\u001b[1;32m      9\u001b[0m     \u001b[0minput_nodes\u001b[0m \u001b[0;34m=\u001b[0m \u001b[0;36m46\u001b[0m\u001b[0;34m\u001b[0m\u001b[0m\n\u001b[1;32m     10\u001b[0m     \u001b[0mhidden_nodes\u001b[0m \u001b[0;34m=\u001b[0m \u001b[0;36m64\u001b[0m\u001b[0;34m\u001b[0m\u001b[0m\n",
      "\u001b[0;32m<ipython-input-48-5107f426a36f>\u001b[0m in \u001b[0;36mpredict\u001b[0;34m()\u001b[0m\n\u001b[1;32m    101\u001b[0m \u001b[0;34m\u001b[0m\u001b[0m\n\u001b[1;32m    102\u001b[0m     \u001b[0mprint\u001b[0m\u001b[0;34m(\u001b[0m\u001b[0mfinal_outputs\u001b[0m\u001b[0;34m[\u001b[0m\u001b[0;34m-\u001b[0m\u001b[0;36m6\u001b[0m\u001b[0;34m:\u001b[0m\u001b[0;34m]\u001b[0m\u001b[0;34m)\u001b[0m\u001b[0;34m\u001b[0m\u001b[0m\n\u001b[0;32m--> 103\u001b[0;31m     \u001b[0mt\u001b[0m \u001b[0;34m=\u001b[0m \u001b[0mtemp\u001b[0m\u001b[0;34m(\u001b[0m\u001b[0;34m)\u001b[0m\u001b[0;34m\u001b[0m\u001b[0m\n\u001b[0m\u001b[1;32m    104\u001b[0m \u001b[0;34m\u001b[0m\u001b[0m\n\u001b[1;32m    105\u001b[0m     \u001b[0;32mdef\u001b[0m \u001b[0mtemp\u001b[0m\u001b[0;34m(\u001b[0m\u001b[0;34m)\u001b[0m\u001b[0;34m:\u001b[0m\u001b[0;34m\u001b[0m\u001b[0m\n",
      "\u001b[0;31mNameError\u001b[0m: name 'temp' is not defined"
     ]
    }
   ],
   "source": [
    "import re\n",
    "import numpy\n",
    "import scipy.special\n",
    "# 함수로 따로 만들기\n",
    "# 가장 높은 확률을 가지는 값 돌리면서 구하기\n",
    "# 에포크 적정 찾기\n",
    "# 신경망 추가\n",
    "class predict:            \n",
    "    input_nodes = 46\n",
    "    hidden_nodes = 64\n",
    "    output_nodes = 46    \n",
    "    learning_rate = 0.3\n",
    "    # 활성화 함수: 시그모이드 함수\n",
    "    activation_function = lambda x: scipy.special.expit(x)\n",
    "    # 가중치: 1/루트(들어오는 연결 노드 개수) 의 표준편차를 가지는 정규분포\n",
    "    wih = numpy.random.normal(0.0, pow(hidden_nodes, -0.5), (hidden_nodes, input_nodes))\n",
    "    who = numpy.random.normal(0.0, pow(output_nodes, -0.5), (output_nodes, hidden_nodes))\n",
    "    \n",
    "    ## 트레이닝\n",
    "    f = open('train_data.txt','r')\n",
    "    lines = f.readlines()\n",
    "    \n",
    "    epochs = 10\n",
    "    for e in range(epochs):\n",
    "        for line in lines:\n",
    "            line = re.sub('\\n', '', line)            \n",
    "            line = re.sub('-', ',', line)                       \n",
    "            line = line.split(',')\n",
    "            inputs = numpy.zeros(input_nodes) + 0.01\n",
    "            targets = numpy.zeros(output_nodes) + 0.01\n",
    "            for i in range(0,6):\n",
    "                inputs[int(line[i])]=0.99\n",
    "                i += 6\n",
    "                targets[int(line[i])] = 0.99\n",
    "            inputs = numpy.array(inputs, ndmin=2).T\n",
    "            targets = numpy.array(targets, ndmin=2).T\n",
    "            # hidden_layer에서 학습\n",
    "            hidden_inputs = numpy.dot(wih, inputs)\n",
    "            hidden_outputs = activation_function(hidden_inputs)\n",
    "            # final result\n",
    "            final_inputs = numpy.dot(who, hidden_outputs)\n",
    "            final_outputs = activation_function(final_inputs)\n",
    "            # err(실제값 - 계산 값)\n",
    "            output_errors = targets - final_outputs\n",
    "            hidden_errors = numpy.dot(who.T, output_errors)\n",
    "            \n",
    "            # 가중치 갱신\n",
    "            who += learning_rate * numpy.dot((output_errors * final_outputs * (1.0 - final_outputs)), numpy.transpose(hidden_outputs))\n",
    "            wih += learning_rate * numpy.dot((hidden_errors * hidden_outputs * (1.0 - hidden_outputs)), numpy.transpose(inputs))\n",
    "\n",
    "    # 정확도 테스트\n",
    "    test_data = open(\"test_data.txt\", \"r\")\n",
    "    lines = test_data.readlines()\n",
    "    lineLen = len(lines)\n",
    "    prob = {}\n",
    "    print(len(lines))\n",
    "    for line in lines:\n",
    "        line = re.sub('\\n', '', line)            \n",
    "        line = re.sub('-', ',', line)                          \n",
    "        line = line.split(',')\n",
    "        \n",
    "        inputs = numpy.zeros(input_nodes) + 0.01\n",
    "        answer = []\n",
    "        for i in range(0,6):\n",
    "            inputs[int(line[i])]=0.99\n",
    "            i += 6\n",
    "            answer.append(line[i])\n",
    "        inputs = numpy.array(inputs, ndmin=2).T\n",
    "        targets = numpy.array(targets, ndmin=2).T\n",
    "        hidden_inputs = numpy.dot(wih, inputs)\n",
    "        hidden_outputs = activation_function(hidden_inputs)\n",
    "\n",
    "        final_inputs = numpy.dot(who, hidden_outputs)\n",
    "        final_outputs = activation_function(final_inputs)\n",
    "        final_outputs = final_outputs.flatten().argsort()    \n",
    "    \n",
    "        predict = final_outputs[-6:]\n",
    "        score = 0\n",
    "        for i in range(0,6):\n",
    "            if str(predict[i]) in answer:\n",
    "                score += 1 \n",
    "        prob[score] = prob.get(score, 0) + 1/lineLen\n",
    "    \n",
    "    print(\"예측 확률 : \" + str(prob))\n",
    "    \n",
    "    # 예측\n",
    "    value = [9,30,34,35,39,41]\n",
    "\n",
    "    inputs = numpy.zeros(input_nodes) + 0.01\n",
    "    for i in range(0,6):\n",
    "        inputs[int(value[i])] = 0.99\n",
    "            \n",
    "    inputs = numpy.array(inputs, ndmin=2).T\n",
    "    \n",
    "    hidden_inputs = numpy.dot(wih, inputs)\n",
    "    hidden_outputs = activation_function(hidden_inputs)\n",
    "    \n",
    "    final_inputs = numpy.dot(who, hidden_outputs)\n",
    "    final_outputs = activation_function(final_inputs)\n",
    "    final_outputs = final_outputs.flatten().argsort()\n",
    "    \n",
    "    print(final_outputs[-6:])\n",
    "\n",
    "    "
   ]
  },
  {
   "cell_type": "code",
   "execution_count": null,
   "metadata": {
    "collapsed": true
   },
   "outputs": [],
   "source": []
  },
  {
   "cell_type": "code",
   "execution_count": null,
   "metadata": {
    "collapsed": true
   },
   "outputs": [],
   "source": []
  }
 ],
 "metadata": {
  "kernelspec": {
   "display_name": "Python 3",
   "language": "python",
   "name": "python3"
  },
  "language_info": {
   "codemirror_mode": {
    "name": "ipython",
    "version": 3
   },
   "file_extension": ".py",
   "mimetype": "text/x-python",
   "name": "python",
   "nbconvert_exporter": "python",
   "pygments_lexer": "ipython3",
   "version": "3.6.3"
  }
 },
 "nbformat": 4,
 "nbformat_minor": 2
}
