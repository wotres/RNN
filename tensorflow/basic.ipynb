{
 "cells": [
  {
   "cell_type": "code",
   "execution_count": 4,
   "metadata": {},
   "outputs": [
    {
     "name": "stdout",
     "output_type": "stream",
     "text": [
      "Tensor(\"Placeholder:0\", shape=(?, 3), dtype=float32)\n"
     ]
    }
   ],
   "source": [
    "import tensorflow as tf\n",
    "# tf.float32 자료형의 [?,3] 배열을 담을 수 있는 녀석을 준비\n",
    "X = tf.placeholder(tf.float32,[None,3])\n",
    "print(X)"
   ]
  },
  {
   "cell_type": "code",
   "execution_count": 32,
   "metadata": {},
   "outputs": [
    {
     "name": "stdout",
     "output_type": "stream",
     "text": [
      "=== X_data ===\n",
      "[[1, 2, 3], [4, 5, 6]]\n",
      "=== W ===\n",
      "[[ 0.10107531  0.50408947]\n",
      " [-0.64099574  0.68007034]\n",
      " [ 0.40741187 -0.3802056 ]]\n",
      "=== b ===\n",
      "[[ 0.45281062]\n",
      " [-0.49072021]]\n",
      "=== expr ===\n",
      "[[ 0.4941301   1.17642403]\n",
      " [-0.84692639  2.64475608]]\n"
     ]
    }
   ],
   "source": [
    "# 들어갈 데이터 x\n",
    "x_data  = [[1,2,3],[4,5,6]]\n",
    "# (3,2)행렬 형태의 W 와 (2,1) 형태의 b 를 정규분포의 무작위 값으로 초기화 생성\n",
    "W = tf.Variable(tf.random_normal([3,2]))\n",
    "b = tf.Variable(tf.random_normal([2,1]))\n",
    "# 행렬 곱셈인 tf.matmul함수 사용 / 단순 곱셈은 * or tf.mul 사용\n",
    "expr = tf.matmul(X,W) + b\n",
    "\n",
    "sess = tf.Session()\n",
    "# 앞에서 정의한 변수들을 초기화 하는 함수\n",
    "# 기존에 학습한 값들을 가져와서 사용하는 것이 아닌 처음 실행하는 것이라면 연산을 실행하기 전에 반드시 이 함수를 이용해 변수들을 초기화해야함\n",
    "sess.run(tf.global_variables_initializer())\n",
    "\n",
    "print(\"=== X_data ===\")\n",
    "print(x_data)\n",
    "print(\"=== W ===\")\n",
    "print(sess.run(W))\n",
    "print(\"=== b ===\")\n",
    "print(sess.run(b))\n",
    "print(\"=== expr ===\")\n",
    "# print(sess.run(tf.matmul(X,W)))\n",
    "print(sess.run(expr, feed_dict={X: x_data}))\n",
    "\n",
    "sess.close()"
   ]
  },
  {
   "cell_type": "code",
   "execution_count": null,
   "metadata": {
    "collapsed": true
   },
   "outputs": [],
   "source": []
  }
 ],
 "metadata": {
  "kernelspec": {
   "display_name": "Python 3",
   "language": "python",
   "name": "python3"
  },
  "language_info": {
   "codemirror_mode": {
    "name": "ipython",
    "version": 3
   },
   "file_extension": ".py",
   "mimetype": "text/x-python",
   "name": "python",
   "nbconvert_exporter": "python",
   "pygments_lexer": "ipython3",
   "version": "3.6.3"
  }
 },
 "nbformat": 4,
 "nbformat_minor": 2
}
