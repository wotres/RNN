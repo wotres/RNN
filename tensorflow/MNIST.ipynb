{
 "cells": [
  {
   "cell_type": "code",
   "execution_count": 23,
   "metadata": {},
   "outputs": [
    {
     "name": "stdout",
     "output_type": "stream",
     "text": [
      "Extracting ./mnist/data/train-images-idx3-ubyte.gz\n",
      "Extracting ./mnist/data/train-labels-idx1-ubyte.gz\n",
      "Extracting ./mnist/data/t10k-images-idx3-ubyte.gz\n",
      "Extracting ./mnist/data/t10k-labels-idx1-ubyte.gz\n",
      "Epoch: 0001 Avg. cost = 0.433\n",
      "Epoch: 0002 Avg. cost = 0.167\n",
      "Epoch: 0003 Avg. cost = 0.115\n",
      "Epoch: 0004 Avg. cost = 0.092\n",
      "Epoch: 0005 Avg. cost = 0.076\n",
      "Epoch: 0006 Avg. cost = 0.062\n",
      "Epoch: 0007 Avg. cost = 0.054\n",
      "Epoch: 0008 Avg. cost = 0.046\n",
      "Epoch: 0009 Avg. cost = 0.043\n",
      "Epoch: 0010 Avg. cost = 0.039\n",
      "Epoch: 0011 Avg. cost = 0.034\n",
      "Epoch: 0012 Avg. cost = 0.031\n",
      "Epoch: 0013 Avg. cost = 0.028\n",
      "Epoch: 0014 Avg. cost = 0.026\n",
      "Epoch: 0015 Avg. cost = 0.027\n",
      "최적화 완료!\n",
      "정확도: 0.9806\n"
     ]
    },
    {
     "data": {
      "image/png": "[encoded data removed]",
      "text/plain": [
       "<matplotlib.figure.Figure at 0x1c25e5ef98>"
      ]
     },
     "metadata": {},
     "output_type": "display_data"
    }
   ],
   "source": [
    "import tensorflow as tf\n",
    "import numpy as np\n",
    "from tensorflow.examples.tutorials.mnist import input_data\n",
    "# matplotlib은 시각화를 위해 그래프를 쉽게 그릴 수 있도록 해주는 파이썬 라이브러리\n",
    "import matplotlib.pyplot as plt\n",
    "\n",
    "# 데이터 내려받고 원-핫 인코딩 방식으로 읽어 들암\n",
    "mnist = input_data.read_data_sets(\"./mnist/data/\", one_hot=True)\n",
    "\n",
    "# 데이터를 적당한 크기로 잘라서 학습시킴 : 미니배치\n",
    "# [None, 784] : None 부분에 미니 배치 시킬 배치 크기 결정, None 일 경우에는 텐서플로가 알아서 계산\n",
    "X = tf.placeholder(tf.float32, [None, 784])\n",
    "Y = tf.placeholder(tf.float32, [None, 10])\n",
    "\n",
    "# 학습시에는 0.8을 넣어 드롭아웃을 사용하도록 하고, 예측시에는 1을 넣어 신경망 전체를 사용하도록 만듬\n",
    "keep_prob = tf.placeholder(tf.float32)\n",
    "\n",
    "# 표준편차가 0.01 인 정규분포를 가지는 임의의 값으로 뉴런(변수)을 초기화\n",
    "W1 = tf.Variable(tf.random_normal([784, 256], stddev=0.01))\n",
    "L1 = tf.nn.relu(tf.matmul(X, W1))\n",
    "L1 = tf.nn.dropout(L1, keep_prob)\n",
    "# dropout(,0.8)은 80%의 뉴런만 사용하겠다는 의미 \n",
    "W2 = tf.Variable(tf.random_normal([256, 256], stddev=0.01))\n",
    "L2 = tf.nn.relu(tf.matmul(L1, W2))\n",
    "L2 = tf.nn.dropout(L2, keep_prob)\n",
    "\n",
    "W3 = tf.Variable(tf.random_normal([256, 10], stddev=0.01))\n",
    "model = tf.matmul(L2, W3)\n",
    "\n",
    "# 각 이미지에 대한 손실값(실제값과 예측값의 차이)을 구하고 tf.reduce_mean 함수를 이용하여 미니배치의 평균 손실값을 구함\n",
    "cost = tf.reduce_mean(tf.nn.softmax_cross_entropy_with_logits(logits=model, labels=Y))\n",
    "# 이 손실값을 최소화 하는 최적화를 수행\n",
    "optimizer = tf.train.AdamOptimizer(0.001).minimize(cost)\n",
    "\n",
    "## 신경망 모델 학습\n",
    "init = tf.global_variables_initializer()\n",
    "sess = tf.Session()\n",
    "sess.run(init)\n",
    "\n",
    "batch_size = 100\n",
    "# 배치의 크기를 정한 뒤 미니배치가 총 몇 개인지를 저장\n",
    "total_batch = int(mnist.train.num_examples / batch_size)\n",
    "# MNIST 데이터 전체를 학습하는 일을 총 n번 번 반복\n",
    "# 에포크 : 학습데이터 전체를 한바퀴 도는것\n",
    "for epoch in range(15):\n",
    "    total_cost = 0\n",
    "    for i in range(total_batch):\n",
    "        # next_batch()함수를 통해 학습할 데이터를 배치 크기만큼 가져옴, batch_xs 에 입력값, batch_ys 에 출력값 저장 \n",
    "        batch_xs, batch_ys = mnist.train.next_batch(batch_size)\n",
    "        # sess.run을 이용하여 최적화 시키고 손실값을 가져와서 저장\n",
    "        _, cost_val = sess.run([optimizer, cost], feed_dict={X: batch_xs, Y:batch_ys, keep_prob: 0.8})\n",
    "        # 손실값을 저장한 다음, 한세대의 학습이 끝나면 학습한 세대의 평균 손실값을 출력\n",
    "        total_cost += cost_val\n",
    "    \n",
    "    print('Epoch:', '%04d' % (epoch + 1),\n",
    "          'Avg. cost =', '{:.3f}'.format(total_cost / total_batch))\n",
    "print('최적화 완료!')\n",
    "\n",
    "## 결과 확인\n",
    "# 결과 출력 예측결과인 model 의 값과 실제 레이블이 Y 의 값을 비교\n",
    "# tf.argmax(modle, 1) : 두번쨰 차원의 값중 최댓값의 인덱스를 뽑아내는 함수\n",
    "# model 로 출력한 결과는 [None, 10]처럼 결괏값을 배치 크기만큼 가지고 있음 -> 따라서 두번쨰 차원이 예측한 각각의 결과\n",
    "is_correct = tf.equal(tf.argmax(model, 1), tf.argmax(Y, 1))\n",
    "# tf.cast 를 이용해 0 과 1 로 변환 , 변환한 값들을 tf.reduce_mean을 이용해 평균을 내면 그것이 바로 정확도(확률)\n",
    "accuracy = tf.reduce_mean(tf.cast(is_correct, tf.float32))\n",
    "print('정확도:', sess.run(accuracy, feed_dict={X: mnist.test.images, Y:mnist.test.labels, keep_prob:1}))\n",
    "\n",
    "## 결과확인 (matplotlib)\n",
    "labels = sess.run(model, feed_dict={X: mnist.test.images, Y:mnist.test.labels, keep_prob:1})\n",
    "# 손글씨를 출력할 그래프를 준비\n",
    "fig = plt.figure()\n",
    "for i in range(10):\n",
    "    # 2행 5열의 그래프를 만들고, i + 1번째에 숫자 이미지를 출력\n",
    "    subplot = fig.add_subplot(2, 5, i+1)\n",
    "    # 이미지를 꺠끗하게 출력하기 위해 x 와 yd의 눈금 출력하지 않음\n",
    "    subplot.set_xticks([])\n",
    "    subplot.set_yticks([])\n",
    "    # 출력한 이미지 위에 예측한 숫자를 출력\n",
    "    # np.argmax 는 tf.argmax 와 같은 기능의 함수\n",
    "    # 결과값인 labels 의 i번쨰 요소가 원핫인코딩 형식으로 되어있음 -> 가장높은 값을 가진 인덱스를 예측한 숫자로 출력\n",
    "    subplot.set_title('%d' % np.argmax(labels[i]))\n",
    "    # 1차원 배열로 되어 있는 i번쨰 이미지 데이터를  28 * 28 형식의 2차원 배열로 변형하여 이미지 형태로 출력\n",
    "    # cmap 파라미터를 통해 이미지를 그레이스케일로 출력\n",
    "    subplot.imshow(mnist.test.images[i].reshape((28, 28)),\n",
    "                  cmap=plt.cm.gray_r)\n",
    "\n",
    "plt.show()"
   ]
  },
  {
   "cell_type": "code",
   "execution_count": null,
   "metadata": {
    "collapsed": true
   },
   "outputs": [],
   "source": []
  },
  {
   "cell_type": "code",
   "execution_count": null,
   "metadata": {
    "collapsed": true
   },
   "outputs": [],
   "source": []
  }
 ],
 "metadata": {
  "kernelspec": {
   "display_name": "Python 3",
   "language": "python",
   "name": "python3"
  },
  "language_info": {
   "codemirror_mode": {
    "name": "ipython",
    "version": 3
   },
   "file_extension": ".py",
   "mimetype": "text/x-python",
   "name": "python",
   "nbconvert_exporter": "python",
   "pygments_lexer": "ipython3",
   "version": "3.6.3"
  }
 },
 "nbformat": 4,
 "nbformat_minor": 2
}
